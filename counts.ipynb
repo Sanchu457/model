{
 "cells": [
  {
   "cell_type": "code",
   "execution_count": 1,
   "id": "36a3040b",
   "metadata": {},
   "outputs": [],
   "source": [
    "import pandas as pd \n",
    "import numpy as np\n",
    "import statsmodels.api as sm\n"
   ]
  },
  {
   "cell_type": "markdown",
   "id": "7569e4e9",
   "metadata": {},
   "source": [
    "# convert a file into csv "
   ]
  },
  {
   "cell_type": "code",
   "execution_count": 2,
   "id": "c76fff27",
   "metadata": {},
   "outputs": [
    {
     "data": {
      "text/html": [
       "<div>\n",
       "<style scoped>\n",
       "    .dataframe tbody tr th:only-of-type {\n",
       "        vertical-align: middle;\n",
       "    }\n",
       "\n",
       "    .dataframe tbody tr th {\n",
       "        vertical-align: top;\n",
       "    }\n",
       "\n",
       "    .dataframe thead th {\n",
       "        text-align: right;\n",
       "    }\n",
       "</style>\n",
       "<table border=\"1\" class=\"dataframe\">\n",
       "  <thead>\n",
       "    <tr style=\"text-align: right;\">\n",
       "      <th></th>\n",
       "      <th>title</th>\n",
       "      <th>id</th>\n",
       "      <th>spam</th>\n",
       "      <th>name</th>\n",
       "    </tr>\n",
       "  </thead>\n",
       "  <tbody>\n",
       "    <tr>\n",
       "      <th>0</th>\n",
       "      <td>ENTY:cremat What films featured the character ...</td>\n",
       "      <td>NaN</td>\n",
       "      <td>NaN</td>\n",
       "      <td>NaN</td>\n",
       "    </tr>\n",
       "    <tr>\n",
       "      <th>1</th>\n",
       "      <td>DESC:manner How can I find a list of celebriti...</td>\n",
       "      <td>NaN</td>\n",
       "      <td>NaN</td>\n",
       "      <td>NaN</td>\n",
       "    </tr>\n",
       "    <tr>\n",
       "      <th>2</th>\n",
       "      <td>ENTY:animal What fowl grabs the spotlight afte...</td>\n",
       "      <td>of</td>\n",
       "      <td>the</td>\n",
       "      <td>Monkey ?</td>\n",
       "    </tr>\n",
       "    <tr>\n",
       "      <th>3</th>\n",
       "      <td>ABBR:exp What is the full form of .com ?</td>\n",
       "      <td>NaN</td>\n",
       "      <td>NaN</td>\n",
       "      <td>NaN</td>\n",
       "    </tr>\n",
       "    <tr>\n",
       "      <th>4</th>\n",
       "      <td>HUM:ind What contemptible scoundrel stole the ...</td>\n",
       "      <td>?</td>\n",
       "      <td>NaN</td>\n",
       "      <td>NaN</td>\n",
       "    </tr>\n",
       "    <tr>\n",
       "      <th>5</th>\n",
       "      <td>HUM:gr What team did baseball 's St. Louis Bro...</td>\n",
       "      <td>NaN</td>\n",
       "      <td>NaN</td>\n",
       "      <td>NaN</td>\n",
       "    </tr>\n",
       "    <tr>\n",
       "      <th>6</th>\n",
       "      <td>HUM:title What is the oldest profession ?</td>\n",
       "      <td>NaN</td>\n",
       "      <td>NaN</td>\n",
       "      <td>NaN</td>\n",
       "    </tr>\n",
       "    <tr>\n",
       "      <th>7</th>\n",
       "      <td>DESC:def What are liver enzymes ?</td>\n",
       "      <td>NaN</td>\n",
       "      <td>NaN</td>\n",
       "      <td>NaN</td>\n",
       "    </tr>\n",
       "    <tr>\n",
       "      <th>8</th>\n",
       "      <td>HUM:ind Name the scar-faced bounty hunter of T...</td>\n",
       "      <td>NaN</td>\n",
       "      <td>NaN</td>\n",
       "      <td>NaN</td>\n",
       "    </tr>\n",
       "    <tr>\n",
       "      <th>9</th>\n",
       "      <td>NUM:date When was Ozzy Osbourne born ?</td>\n",
       "      <td>NaN</td>\n",
       "      <td>NaN</td>\n",
       "      <td>NaN</td>\n",
       "    </tr>\n",
       "  </tbody>\n",
       "</table>\n",
       "</div>"
      ],
      "text/plain": [
       "                                               title   id spam      name\n",
       "0  ENTY:cremat What films featured the character ...  NaN  NaN       NaN\n",
       "1  DESC:manner How can I find a list of celebriti...  NaN  NaN       NaN\n",
       "2  ENTY:animal What fowl grabs the spotlight afte...   of  the  Monkey ?\n",
       "3           ABBR:exp What is the full form of .com ?  NaN  NaN       NaN\n",
       "4  HUM:ind What contemptible scoundrel stole the ...    ?  NaN       NaN\n",
       "5  HUM:gr What team did baseball 's St. Louis Bro...  NaN  NaN       NaN\n",
       "6          HUM:title What is the oldest profession ?  NaN  NaN       NaN\n",
       "7                  DESC:def What are liver enzymes ?  NaN  NaN       NaN\n",
       "8  HUM:ind Name the scar-faced bounty hunter of T...  NaN  NaN       NaN\n",
       "9             NUM:date When was Ozzy Osbourne born ?  NaN  NaN       NaN"
      ]
     },
     "execution_count": 2,
     "metadata": {},
     "output_type": "execute_result"
    }
   ],
   "source": [
    "df = pd.read_csv(\"traning.csv\")\n",
    "df.head(10)\n",
    "df.columns=['title','id','spam','name']\n",
    "df.head(10)"
   ]
  },
  {
   "cell_type": "code",
   "execution_count": 3,
   "id": "03ffadc0",
   "metadata": {},
   "outputs": [
    {
     "data": {
      "text/html": [
       "<div>\n",
       "<style scoped>\n",
       "    .dataframe tbody tr th:only-of-type {\n",
       "        vertical-align: middle;\n",
       "    }\n",
       "\n",
       "    .dataframe tbody tr th {\n",
       "        vertical-align: top;\n",
       "    }\n",
       "\n",
       "    .dataframe thead th {\n",
       "        text-align: right;\n",
       "    }\n",
       "</style>\n",
       "<table border=\"1\" class=\"dataframe\">\n",
       "  <thead>\n",
       "    <tr style=\"text-align: right;\">\n",
       "      <th></th>\n",
       "      <th>title</th>\n",
       "      <th>id</th>\n",
       "      <th>spam</th>\n",
       "      <th>name</th>\n",
       "    </tr>\n",
       "  </thead>\n",
       "  <tbody>\n",
       "    <tr>\n",
       "      <th>count</th>\n",
       "      <td>15451</td>\n",
       "      <td>5755</td>\n",
       "      <td>4822</td>\n",
       "      <td>3797</td>\n",
       "    </tr>\n",
       "    <tr>\n",
       "      <th>unique</th>\n",
       "      <td>5378</td>\n",
       "      <td>984</td>\n",
       "      <td>1199</td>\n",
       "      <td>1143</td>\n",
       "    </tr>\n",
       "    <tr>\n",
       "      <th>top</th>\n",
       "      <td>NUM:speed What is the speed of the Mississippi...</td>\n",
       "      <td>?</td>\n",
       "      <td>?</td>\n",
       "      <td>?</td>\n",
       "    </tr>\n",
       "    <tr>\n",
       "      <th>freq</th>\n",
       "      <td>15</td>\n",
       "      <td>654</td>\n",
       "      <td>525</td>\n",
       "      <td>367</td>\n",
       "    </tr>\n",
       "  </tbody>\n",
       "</table>\n",
       "</div>"
      ],
      "text/plain": [
       "                                                    title    id  spam  name\n",
       "count                                               15451  5755  4822  3797\n",
       "unique                                               5378   984  1199  1143\n",
       "top     NUM:speed What is the speed of the Mississippi...     ?     ?     ?\n",
       "freq                                                   15   654   525   367"
      ]
     },
     "execution_count": 3,
     "metadata": {},
     "output_type": "execute_result"
    }
   ],
   "source": [
    "df.describe()"
   ]
  },
  {
   "cell_type": "markdown",
   "id": "8ffb33bd",
   "metadata": {},
   "source": [
    "# predict the intent class of question "
   ]
  },
  {
   "cell_type": "code",
   "execution_count": 4,
   "id": "443dcc0c",
   "metadata": {},
   "outputs": [],
   "source": [
    "import tensorflow as tf\n",
    "import tensorflow_hub as hub\n",
    "import tensorflow_text as text"
   ]
  },
  {
   "cell_type": "code",
   "execution_count": 5,
   "id": "a1ccec34",
   "metadata": {},
   "outputs": [],
   "source": [
    "bert_preprocess = hub.KerasLayer(\"https://tfhub.dev/tensorflow/bert_en_uncased_preprocess/3\")\n",
    "bert_encoder = hub.KerasLayer(\"https://tfhub.dev/tensorflow/bert_en_uncased_L-12_H-768_A-12/4\")"
   ]
  },
  {
   "cell_type": "code",
   "execution_count": 6,
   "id": "7ed96a34",
   "metadata": {},
   "outputs": [
    {
     "data": {
      "text/plain": [
       "<tf.Tensor: shape=(1, 768), dtype=float32, numpy=\n",
       "array([[-8.22856665e-01, -2.23023772e-01,  1.37482837e-01,\n",
       "         6.23081207e-01, -2.52274960e-01, -1.41964585e-01,\n",
       "         9.00550365e-01,  2.32547134e-01,  1.08840257e-01,\n",
       "        -9.99774158e-01,  9.73431990e-02,  3.60738635e-01,\n",
       "         9.50814128e-01, -1.23141624e-01,  8.84000242e-01,\n",
       "        -5.45330465e-01, -1.50978133e-01, -4.80900049e-01,\n",
       "         3.19162935e-01, -7.70953953e-01,  4.94693696e-01,\n",
       "         9.47901964e-01,  5.48234224e-01,  2.22003728e-01,\n",
       "         3.20478290e-01,  3.97477001e-01, -5.60726821e-01,\n",
       "         8.36239696e-01,  9.32906628e-01,  6.52199984e-01,\n",
       "        -6.61866546e-01,  2.21669942e-01, -9.58593726e-01,\n",
       "        -1.61572367e-01,  4.53092419e-02, -9.62107301e-01,\n",
       "         1.64482772e-01, -6.34378254e-01,  7.76600791e-03,\n",
       "         2.09850026e-03, -7.64713585e-01,  2.81085968e-01,\n",
       "         9.94697988e-01,  2.19148882e-02, -1.29992172e-01,\n",
       "        -2.75284797e-01, -9.99856174e-01,  2.01807603e-01,\n",
       "        -8.17451715e-01, -6.39187917e-02, -1.37804225e-01,\n",
       "        -2.05299795e-01,  1.05878517e-01,  3.84159267e-01,\n",
       "         3.64557087e-01,  2.88975388e-01, -6.66508302e-02,\n",
       "         1.16639733e-01, -5.89769371e-02, -4.87426251e-01,\n",
       "        -4.85932797e-01,  2.78868288e-01, -6.59149960e-02,\n",
       "        -8.29062223e-01,  1.13712149e-02, -4.05467093e-01,\n",
       "        -7.09740222e-02, -2.09283173e-01, -5.10008708e-02,\n",
       "        -5.30201159e-02,  8.22661340e-01,  1.87242106e-01,\n",
       "         1.55594781e-01, -6.51359856e-01, -3.04817289e-01,\n",
       "         9.01840627e-02, -3.54460806e-01,  9.99998927e-01,\n",
       "        -3.87335032e-01, -9.39016104e-01, -2.38058835e-01,\n",
       "        -5.24450652e-02,  2.95378298e-01,  5.00256658e-01,\n",
       "        -3.60944957e-01, -9.99989033e-01,  4.04402703e-01,\n",
       "        -1.43763766e-01, -9.66511130e-01,  1.44633889e-01,\n",
       "         2.39156321e-01, -1.42993972e-01, -5.49535751e-01,\n",
       "         2.77665585e-01, -1.72910422e-01, -1.65165976e-01,\n",
       "        -2.10694909e-01,  2.07432345e-01, -1.50845692e-01,\n",
       "        -6.62073642e-02,  4.84134443e-02, -1.65829048e-01,\n",
       "         3.54078449e-02, -2.71181971e-01,  7.30966851e-02,\n",
       "        -3.54208976e-01, -5.09191215e-01,  2.61450589e-01,\n",
       "        -2.85128355e-01,  5.71893930e-01,  1.98825389e-01,\n",
       "        -1.63756102e-01,  1.54387489e-01, -9.16607559e-01,\n",
       "         5.53793728e-01, -1.07966594e-01, -9.44369078e-01,\n",
       "        -3.34121495e-01, -9.60690260e-01,  6.20680153e-01,\n",
       "        -1.74966790e-02, -1.02673054e-01,  9.22886550e-01,\n",
       "         5.38535297e-01,  2.06561565e-01, -4.50005457e-02,\n",
       "        -6.48542680e-03, -9.99999762e-01, -3.81682098e-01,\n",
       "        -1.15102753e-01,  1.08062759e-01, -7.06409588e-02,\n",
       "        -9.43772495e-01, -8.79799068e-01,  4.33840334e-01,\n",
       "         9.03255641e-01,  1.12879068e-01,  9.91763890e-01,\n",
       "        -2.55081236e-01,  8.74165595e-01,  4.20564562e-02,\n",
       "        -3.67152482e-01, -1.37703285e-01, -3.18005025e-01,\n",
       "         2.45467871e-01,  4.48527783e-01, -6.76780641e-01,\n",
       "         2.21682906e-01, -5.77141568e-02,  1.88261308e-02,\n",
       "        -1.62643865e-01, -2.42346495e-01,  2.05316037e-01,\n",
       "        -8.35975885e-01, -2.93897837e-01,  8.74698579e-01,\n",
       "         1.51680574e-01,  1.64563268e-01,  5.73640823e-01,\n",
       "        -2.06878856e-01, -3.12127024e-01,  7.65193582e-01,\n",
       "         3.14045906e-01,  2.82539517e-01, -1.02438284e-02,\n",
       "         3.57472748e-01,  5.04527008e-03,  3.98543656e-01,\n",
       "        -8.13307345e-01,  3.63847502e-02,  3.44604254e-01,\n",
       "        -1.76031977e-01,  2.04411745e-01, -9.32559729e-01,\n",
       "        -2.91760921e-01,  3.56708080e-01,  9.61525142e-01,\n",
       "         7.64531791e-01,  1.40605882e-01,  2.47256517e-01,\n",
       "        -1.55313581e-01,  3.32888544e-01, -8.98510337e-01,\n",
       "         9.20502484e-01, -1.28273785e-01,  2.00370431e-01,\n",
       "         6.14590585e-01, -1.04497947e-01, -7.53337443e-01,\n",
       "        -4.45005447e-01,  8.24844480e-01, -1.72595799e-01,\n",
       "        -7.22431898e-01,  8.62301588e-02, -3.33407223e-01,\n",
       "        -3.77488405e-01,  1.81988731e-01,  4.58497435e-01,\n",
       "        -1.83163270e-01, -3.08945626e-01,  8.46102461e-02,\n",
       "         7.92182028e-01,  9.63247001e-01,  6.44935489e-01,\n",
       "        -3.71657133e-01,  3.89638066e-01, -8.65312278e-01,\n",
       "        -3.52791935e-01,  1.68551892e-01,  2.07051992e-01,\n",
       "         8.88130590e-02,  9.78643656e-01,  1.10271432e-01,\n",
       "        -1.42323226e-01, -8.43343794e-01, -9.58396673e-01,\n",
       "         2.11156029e-02, -8.29367578e-01,  3.55278607e-04,\n",
       "        -6.11917615e-01,  2.13968381e-01,  6.57835245e-01,\n",
       "        -1.89009383e-02,  3.53650510e-01, -9.78624046e-01,\n",
       "        -6.88269198e-01,  2.76164711e-01, -2.39830747e-01,\n",
       "         3.46782416e-01, -1.25712395e-01, -3.62470478e-01,\n",
       "         7.07228407e-02, -4.51981664e-01,  6.97025537e-01,\n",
       "         7.74521649e-01,  1.58546939e-01, -5.27985096e-01,\n",
       "         8.10098767e-01, -2.08904311e-01,  8.74292374e-01,\n",
       "        -5.57204902e-01,  9.54310477e-01,  1.78487912e-01,\n",
       "         3.40266079e-01, -8.69011402e-01,  2.78470755e-01,\n",
       "        -8.89321506e-01, -4.69985455e-02, -4.80966307e-02,\n",
       "        -5.30614614e-01, -7.21069127e-02,  2.94852048e-01,\n",
       "         2.20678881e-01,  6.91210568e-01, -4.67165440e-01,\n",
       "         9.95837331e-01,  3.53198349e-01, -8.81596804e-01,\n",
       "         6.65832877e-01, -1.86542839e-01, -9.45632100e-01,\n",
       "         3.59287336e-02,  2.03214288e-01, -5.57361245e-01,\n",
       "        -2.90823489e-01, -3.41983229e-01, -8.35040748e-01,\n",
       "         8.68355751e-01,  9.37787965e-02,  9.85516310e-01,\n",
       "         3.11653435e-01, -8.91853511e-01, -2.67511219e-01,\n",
       "        -7.67726481e-01, -1.55287758e-01,  2.57113259e-02,\n",
       "         4.84188527e-01, -8.48735124e-02, -9.13437784e-01,\n",
       "         3.45017642e-01,  3.49321991e-01,  3.37730020e-01,\n",
       "         5.48421443e-01,  9.93764997e-01,  9.98400748e-01,\n",
       "         9.16875720e-01,  8.12857211e-01,  8.62643242e-01,\n",
       "        -8.44961286e-01,  4.23443168e-01,  9.99872386e-01,\n",
       "        -4.65890437e-01, -9.99947727e-01, -8.83353174e-01,\n",
       "        -5.37466526e-01,  3.17958951e-01, -9.99999523e-01,\n",
       "        -1.51142487e-02,  7.24211410e-02, -7.90202320e-01,\n",
       "        -2.07255393e-01,  9.38145041e-01,  9.83115077e-01,\n",
       "        -9.99997079e-01,  6.96579039e-01,  8.66890788e-01,\n",
       "        -4.51083571e-01,  2.43795797e-01, -7.04268878e-03,\n",
       "         9.24665272e-01,  2.50897139e-01,  1.12926319e-01,\n",
       "        -1.68663785e-01,  2.26918608e-01, -6.36090711e-02,\n",
       "        -8.04381728e-01,  2.54889905e-01,  3.22939545e-01,\n",
       "         5.14529526e-01,  1.14220031e-01, -7.28094220e-01,\n",
       "        -8.66176069e-01, -3.39132786e-01, -9.37365517e-02,\n",
       "        -2.75034338e-01, -8.97100270e-01, -1.30241960e-01,\n",
       "        -6.26080632e-02,  5.12927413e-01,  6.65122271e-02,\n",
       "         1.75731540e-01, -6.78515911e-01,  1.69499844e-01,\n",
       "        -6.36650264e-01,  3.83985102e-01,  4.66781586e-01,\n",
       "        -8.67677629e-01, -6.54767871e-01, -2.24647328e-01,\n",
       "        -2.85002261e-01,  2.41774842e-01, -8.61498535e-01,\n",
       "         9.35188830e-01, -2.71968007e-01,  3.53515059e-01,\n",
       "         9.99998212e-01, -3.53665918e-01, -8.07511568e-01,\n",
       "         3.27382058e-01,  7.77453557e-02,  2.76604146e-02,\n",
       "         9.99995172e-01,  3.78616691e-01, -9.41948354e-01,\n",
       "        -2.92801499e-01,  1.87390387e-01, -3.24570686e-01,\n",
       "        -2.85472333e-01,  9.95277941e-01, -1.33403718e-01,\n",
       "         2.34495521e-01,  2.54380256e-01,  9.14181232e-01,\n",
       "        -9.60657001e-01,  2.68273830e-01, -8.74628067e-01,\n",
       "        -9.10599053e-01,  9.11818206e-01,  8.46251845e-01,\n",
       "        -1.43642202e-01, -4.70622450e-01,  1.00955740e-01,\n",
       "        -7.16730906e-03,  1.34853676e-01, -9.30895507e-01,\n",
       "         5.91095567e-01,  4.09143895e-01, -1.14581890e-01,\n",
       "         8.09277952e-01, -8.53075981e-01, -2.73325175e-01,\n",
       "         3.40846151e-01, -1.01050660e-01,  7.76381120e-02,\n",
       "         1.28604146e-02,  4.23751295e-01, -2.05845296e-01,\n",
       "         1.36020944e-01, -1.73247144e-01,  5.85765600e-01,\n",
       "        -9.25608456e-01,  9.92231257e-03,  9.99992967e-01,\n",
       "        -2.01850925e-02, -4.16631550e-01, -2.43116543e-01,\n",
       "        -2.83630807e-02, -2.86171317e-01,  2.19290748e-01,\n",
       "         2.78540134e-01, -2.78302699e-01, -7.39013791e-01,\n",
       "        -1.41405597e-01, -8.81626546e-01, -9.40748215e-01,\n",
       "         6.71585798e-01,  1.44735530e-01, -3.07380438e-01,\n",
       "         9.98464227e-01,  2.68528223e-01,  1.34994626e-01,\n",
       "        -7.91116059e-02,  3.91797900e-01,  3.21538672e-02,\n",
       "         5.01063287e-01, -3.70162666e-01,  9.22210813e-01,\n",
       "        -1.71283320e-01,  3.18622291e-01,  7.94131517e-01,\n",
       "         1.49309248e-01, -2.01536939e-01, -5.71282029e-01,\n",
       "         1.18805841e-02, -8.17545772e-01, -2.26205848e-02,\n",
       "        -9.15075362e-01,  9.16977823e-01,  1.08862139e-01,\n",
       "         1.90942317e-01,  1.13756880e-01,  1.21114895e-01,\n",
       "         9.99996960e-01,  6.41273499e-01,  5.39663255e-01,\n",
       "        -6.60556912e-01,  8.21283996e-01, -7.71838605e-01,\n",
       "        -6.58082426e-01, -2.95531839e-01,  1.36161530e-02,\n",
       "         2.61957556e-01, -2.01862112e-01,  1.56305388e-01,\n",
       "        -9.33301270e-01, -1.74115524e-01, -5.86139932e-02,\n",
       "        -9.58258867e-01, -9.70241845e-01,  3.96833181e-01,\n",
       "         7.75875449e-01,  6.96853176e-02, -3.29471409e-01,\n",
       "        -5.53671956e-01, -4.09771830e-01,  3.01123351e-01,\n",
       "        -1.43384337e-01, -8.56763899e-01,  3.63082647e-01,\n",
       "        -5.57716079e-02,  4.45082188e-01, -1.97522715e-01,\n",
       "         3.34318906e-01, -3.87521595e-01,  7.14770138e-01,\n",
       "         5.64858556e-01,  5.39475046e-02, -1.31838500e-01,\n",
       "        -7.82110751e-01,  6.58259928e-01, -7.45856166e-01,\n",
       "        -2.72957571e-02, -6.97126240e-02,  9.99999106e-01,\n",
       "        -2.58825868e-01, -2.05128133e-01,  6.01630211e-01,\n",
       "         6.38137043e-01, -6.02070540e-02,  1.26233056e-01,\n",
       "        -5.40255010e-02,  1.11164831e-01,  2.84083754e-01,\n",
       "         2.57504493e-01, -8.46682012e-01, -2.72484630e-01,\n",
       "         4.05263066e-01, -5.07916749e-01, -3.27729017e-01,\n",
       "         6.48127973e-01, -2.04657003e-01,  1.34631395e-01,\n",
       "        -4.95419698e-03,  8.17563310e-02,  9.98106778e-01,\n",
       "        -1.95628881e-01, -1.27469882e-01, -4.13611770e-01,\n",
       "         3.67008783e-02, -2.89433479e-01, -6.14390373e-01,\n",
       "         9.99961436e-01,  2.67461121e-01,  4.69012652e-03,\n",
       "        -9.66924548e-01,  1.23417437e-01, -9.00621831e-01,\n",
       "         9.95550871e-01,  6.64064229e-01, -7.64776349e-01,\n",
       "         3.78399014e-01,  4.58190471e-01, -9.59438905e-02,\n",
       "         7.28244483e-01, -2.10704371e-01, -1.51156232e-01,\n",
       "         7.11154714e-02,  8.58271271e-02,  8.91333163e-01,\n",
       "        -3.24831218e-01, -8.92452002e-01, -4.81459379e-01,\n",
       "         3.22484523e-01, -8.61600339e-01,  8.86080027e-01,\n",
       "        -4.54671353e-01, -1.34701684e-01, -1.67933851e-01,\n",
       "         3.02664191e-01,  8.67635727e-01, -3.65641806e-03,\n",
       "        -9.24313366e-01, -1.58780202e-01, -9.36354101e-02,\n",
       "         9.25525367e-01,  1.16384938e-01, -3.16815078e-01,\n",
       "        -8.80576551e-01, -1.40636429e-01, -3.92955914e-02,\n",
       "         2.36212134e-01, -8.54063213e-01,  9.18820739e-01,\n",
       "        -9.54571784e-01,  3.33399534e-01,  9.99961257e-01,\n",
       "         2.06539884e-01, -3.83808404e-01,  2.00071275e-01,\n",
       "        -3.87525201e-01,  1.99102163e-01,  5.11317216e-02,\n",
       "         4.14123237e-01, -8.75908911e-01, -1.89045027e-01,\n",
       "        -1.34923548e-01,  2.55202591e-01, -1.65427178e-01,\n",
       "         2.30152145e-01,  5.34301817e-01,  1.24030001e-01,\n",
       "        -2.42216825e-01, -5.22683382e-01, -6.69028908e-02,\n",
       "         3.25006187e-01,  6.84088528e-01, -2.35558480e-01,\n",
       "        -1.10416420e-01,  1.05849460e-01, -1.05729349e-01,\n",
       "        -8.82474184e-01, -2.21480429e-01, -1.86731458e-01,\n",
       "        -9.66035903e-01,  6.52062833e-01, -9.99998510e-01,\n",
       "        -2.50838041e-01, -4.00892854e-01, -1.34438708e-01,\n",
       "         6.97867215e-01, -2.78454036e-01, -1.89341784e-01,\n",
       "        -5.87686181e-01,  3.05965751e-01,  6.99846268e-01,\n",
       "         7.03450561e-01, -1.94625467e-01, -2.35531211e-01,\n",
       "        -6.43292844e-01,  1.54372886e-01, -3.45929302e-02,\n",
       "         1.63185224e-01, -2.77915318e-02,  5.85969448e-01,\n",
       "        -7.73168206e-02,  9.99999344e-01,  6.14578873e-02,\n",
       "        -3.61350834e-01, -9.53181863e-01,  2.35179499e-01,\n",
       "        -1.58884361e-01,  9.99322057e-01, -8.99678528e-01,\n",
       "        -8.79167140e-01,  2.11682066e-01, -4.77002233e-01,\n",
       "        -7.12620318e-01,  1.35946706e-01,  1.36582172e-02,\n",
       "        -5.80592453e-01, -2.13067532e-01,  8.95695865e-01,\n",
       "         8.45933795e-01, -3.35172683e-01,  1.53389141e-01,\n",
       "        -2.43802056e-01, -4.29006577e-01,  6.11043796e-02,\n",
       "        -2.81232327e-01,  9.63100433e-01, -5.83948903e-02,\n",
       "         8.58676732e-01,  7.24620581e-01,  2.86086798e-01,\n",
       "         8.96926999e-01,  1.74998492e-01,  6.59157038e-01,\n",
       "         5.23529463e-02,  9.99970436e-01,  1.53286859e-01,\n",
       "        -8.90392780e-01,  2.02617019e-01, -9.70498741e-01,\n",
       "        -1.62972540e-01, -9.04141009e-01,  2.65831560e-01,\n",
       "         3.74462493e-02,  7.66835570e-01, -1.99704483e-01,\n",
       "         9.18052197e-01,  2.34035447e-01,  1.38652146e-01,\n",
       "        -3.58959399e-02,  4.43170846e-01,  2.76336104e-01,\n",
       "        -8.66814315e-01, -9.50212181e-01, -9.64804292e-01,\n",
       "         2.74245471e-01, -3.69832516e-01,  3.00370734e-02,\n",
       "         2.19020203e-01,  1.97896272e-01,  2.93866485e-01,\n",
       "         2.47763962e-01, -9.99938309e-01,  8.55567694e-01,\n",
       "         3.33421052e-01, -2.32914343e-01,  9.01546896e-01,\n",
       "         1.63478583e-01,  1.60262942e-01,  9.10393968e-02,\n",
       "        -9.60548997e-01, -9.46481109e-01, -2.83611655e-01,\n",
       "        -2.14863449e-01,  7.78840601e-01,  4.90213513e-01,\n",
       "         7.36790180e-01,  3.67684662e-01, -3.87552172e-01,\n",
       "        -2.57722824e-03,  3.30056995e-01,  3.84136349e-01,\n",
       "        -9.75928068e-01,  3.48763108e-01,  6.27457350e-02,\n",
       "        -9.59545493e-01,  9.08039093e-01, -4.64803666e-01,\n",
       "        -1.58308074e-01,  5.57182968e-01,  1.70208052e-01,\n",
       "         9.57030714e-01,  6.96329832e-01,  4.77423102e-01,\n",
       "         1.20416746e-01,  4.87157851e-01,  8.08324277e-01,\n",
       "         9.27344263e-01,  9.67455447e-01,  1.36797115e-01,\n",
       "         7.51199007e-01,  1.13625124e-01,  2.72081733e-01,\n",
       "        -1.31057873e-01, -8.63890052e-01,  6.08717799e-02,\n",
       "        -1.67126417e-01,  1.79395080e-04,  2.79319137e-01,\n",
       "        -7.68384337e-02, -9.52457190e-01,  1.29415944e-01,\n",
       "        -1.49274543e-01,  4.53082263e-01, -3.06197912e-01,\n",
       "         1.00471772e-01, -3.28596920e-01, -1.34261698e-01,\n",
       "        -5.87514281e-01, -4.42803890e-01,  3.93689305e-01,\n",
       "         3.08150649e-01,  8.81829858e-01,  1.83980107e-01,\n",
       "        -1.94520410e-02, -6.22928381e-01, -6.53743073e-02,\n",
       "         2.28856474e-01, -8.36025953e-01,  9.07244861e-01,\n",
       "        -6.06269925e-04,  2.98925072e-01, -1.32901117e-01,\n",
       "        -1.94233600e-02,  2.10626081e-01, -2.32290670e-01,\n",
       "        -2.77075261e-01, -1.67114064e-01, -7.02582955e-01,\n",
       "         7.68120766e-01,  6.82337210e-02, -3.65874112e-01,\n",
       "        -4.27017391e-01,  5.50822794e-01,  2.47214779e-01,\n",
       "         9.50322628e-01,  1.97835803e-01,  4.48596254e-02,\n",
       "         3.37758218e-03, -1.12926647e-01,  1.74292490e-01,\n",
       "        -2.92501897e-01, -9.99945283e-01,  3.30569804e-01,\n",
       "         3.13409092e-03, -9.64141637e-02, -2.49406006e-02,\n",
       "        -2.34554410e-01, -1.96881935e-01, -9.54819322e-01,\n",
       "        -6.44721910e-02, -3.65584493e-01, -2.65902668e-01,\n",
       "        -4.93313611e-01, -4.52765644e-01,  2.94427037e-01,\n",
       "         9.38399062e-02,  1.27865866e-01,  8.27050030e-01,\n",
       "         7.37125278e-02,  4.74305570e-01,  3.67303699e-01,\n",
       "         1.57011271e-01, -5.12628198e-01,  8.25777888e-01]], dtype=float32)>"
      ]
     },
     "execution_count": 6,
     "metadata": {},
     "output_type": "execute_result"
    }
   ],
   "source": [
    "def get_sentence_embeding(sentences):\n",
    "     preprocessed_text = bert_preprocess(sentences)\n",
    "     return bert_encoder(preprocessed_text)['pooled_output']\n",
    "    \n",
    "get_sentence_embeding([\n",
    "    \n",
    "    \"title\"\n",
    "    \n",
    "])    \n",
    "    "
   ]
  },
  {
   "cell_type": "code",
   "execution_count": 7,
   "id": "f49d8305",
   "metadata": {},
   "outputs": [],
   "source": [
    "e = get_sentence_embeding([\n",
    "    \"ENTY:cremat What films featured the character\",\n",
    "    \"ABBR:exp What is the full form of .com ?\",\n",
    "    \"ENTY:animal What fowl grabs the spotlight after\",\n",
    "    \"ABBR:exp What is the full form of .com ?\"\n",
    "]\n",
    ")"
   ]
  },
  {
   "cell_type": "code",
   "execution_count": null,
   "id": "46b1020f",
   "metadata": {},
   "outputs": [],
   "source": [
    "e"
   ]
  },
  {
   "cell_type": "code",
   "execution_count": null,
   "id": "dfc4a3a2",
   "metadata": {},
   "outputs": [],
   "source": [
    "df.describe()"
   ]
  },
  {
   "cell_type": "code",
   "execution_count": 23,
   "id": "fcc6d3e1",
   "metadata": {},
   "outputs": [
    {
     "data": {
      "text/plain": [
       "NUM:speed What is the speed of the Mississippi River ?              15\n",
       "LOC:other What is the oldest website on the Internet ?              10\n",
       "NUM:other What is the latitude and longitude of El Paso , Texas     10\n",
       "NUM:money What does an average daycare provider get paid in New     10\n",
       "NUM:count How many degrees cooler is the inside of a cucumber th    10\n",
       "                                                                    ..\n",
       "LOC:mount What are the four largest mountain ranges in the conti     1\n",
       "HUM:gr What terrorist group was headed by Donald DeFreeze ?          1\n",
       "NUM:period How long ago was the Roe vs. Wade decision by the Sup     1\n",
       "LOC:country What two countries is Andorra nestled between ?          1\n",
       "ENTY:currency What currency is used in Australia ?                   1\n",
       "Name: title, Length: 5378, dtype: int64"
      ]
     },
     "execution_count": 23,
     "metadata": {},
     "output_type": "execute_result"
    }
   ],
   "source": [
    "df['title'].value_counts()"
   ]
  },
  {
   "cell_type": "markdown",
   "id": "d35e526f",
   "metadata": {},
   "source": [
    "# predict the two classes"
   ]
  },
  {
   "cell_type": "code",
   "execution_count": 24,
   "id": "6bafdfef",
   "metadata": {},
   "outputs": [
    {
     "data": {
      "text/plain": [
       "(0, 4)"
      ]
     },
     "execution_count": 24,
     "metadata": {},
     "output_type": "execute_result"
    }
   ],
   "source": [
    "df_unique = df[df['title']=='unique']\n",
    "df_unique.shape"
   ]
  },
  {
   "cell_type": "code",
   "execution_count": 25,
   "id": "4c77bc23",
   "metadata": {},
   "outputs": [
    {
     "data": {
      "text/plain": [
       "(0, 4)"
      ]
     },
     "execution_count": 25,
     "metadata": {},
     "output_type": "execute_result"
    }
   ],
   "source": [
    "df_count = df[df['title']=='count']\n",
    "df_count.shape"
   ]
  },
  {
   "cell_type": "code",
   "execution_count": 26,
   "id": "21f0e07e",
   "metadata": {},
   "outputs": [
    {
     "data": {
      "text/plain": [
       "(0, 4)"
      ]
     },
     "execution_count": 26,
     "metadata": {},
     "output_type": "execute_result"
    }
   ],
   "source": [
    "df_count_downsampled = df_count.sample(df_unique.shape[0])\n",
    "df_count_downsampled.shape"
   ]
  },
  {
   "cell_type": "code",
   "execution_count": 27,
   "id": "bee7d8b7",
   "metadata": {},
   "outputs": [
    {
     "data": {
      "text/plain": [
       "(0, 4)"
      ]
     },
     "execution_count": 27,
     "metadata": {},
     "output_type": "execute_result"
    }
   ],
   "source": [
    "df_balanced = pd.concat([df_unique, df_count_downsampled])\n",
    "df_balanced.shape"
   ]
  },
  {
   "cell_type": "code",
   "execution_count": 28,
   "id": "cb1c932a",
   "metadata": {},
   "outputs": [
    {
     "data": {
      "text/html": [
       "<div>\n",
       "<style scoped>\n",
       "    .dataframe tbody tr th:only-of-type {\n",
       "        vertical-align: middle;\n",
       "    }\n",
       "\n",
       "    .dataframe tbody tr th {\n",
       "        vertical-align: top;\n",
       "    }\n",
       "\n",
       "    .dataframe thead th {\n",
       "        text-align: right;\n",
       "    }\n",
       "</style>\n",
       "<table border=\"1\" class=\"dataframe\">\n",
       "  <thead>\n",
       "    <tr style=\"text-align: right;\">\n",
       "      <th></th>\n",
       "      <th>title</th>\n",
       "      <th>id</th>\n",
       "      <th>spam</th>\n",
       "      <th>name</th>\n",
       "    </tr>\n",
       "  </thead>\n",
       "  <tbody>\n",
       "  </tbody>\n",
       "</table>\n",
       "</div>"
      ],
      "text/plain": [
       "Empty DataFrame\n",
       "Columns: [title, id, spam, name]\n",
       "Index: []"
      ]
     },
     "execution_count": 28,
     "metadata": {},
     "output_type": "execute_result"
    }
   ],
   "source": [
    "df_balanced.sample(0)"
   ]
  },
  {
   "cell_type": "code",
   "execution_count": 29,
   "id": "41f3ec59",
   "metadata": {},
   "outputs": [
    {
     "data": {
      "text/html": [
       "<div>\n",
       "<style scoped>\n",
       "    .dataframe tbody tr th:only-of-type {\n",
       "        vertical-align: middle;\n",
       "    }\n",
       "\n",
       "    .dataframe tbody tr th {\n",
       "        vertical-align: top;\n",
       "    }\n",
       "\n",
       "    .dataframe thead th {\n",
       "        text-align: right;\n",
       "    }\n",
       "</style>\n",
       "<table border=\"1\" class=\"dataframe\">\n",
       "  <thead>\n",
       "    <tr style=\"text-align: right;\">\n",
       "      <th></th>\n",
       "      <th>title</th>\n",
       "      <th>id</th>\n",
       "      <th>spam</th>\n",
       "      <th>name</th>\n",
       "      <th>unique</th>\n",
       "    </tr>\n",
       "  </thead>\n",
       "  <tbody>\n",
       "  </tbody>\n",
       "</table>\n",
       "</div>"
      ],
      "text/plain": [
       "Empty DataFrame\n",
       "Columns: [title, id, spam, name, unique]\n",
       "Index: []"
      ]
     },
     "execution_count": 29,
     "metadata": {},
     "output_type": "execute_result"
    }
   ],
   "source": [
    "df_balanced['unique'] = df_balanced['title'].apply(lambda x: 1 if x=='uique' else 0)\n",
    "df_balanced.sample(0)"
   ]
  },
  {
   "cell_type": "code",
   "execution_count": 30,
   "id": "eabd52d0",
   "metadata": {},
   "outputs": [
    {
     "data": {
      "text/html": [
       "<div>\n",
       "<style scoped>\n",
       "    .dataframe tbody tr th:only-of-type {\n",
       "        vertical-align: middle;\n",
       "    }\n",
       "\n",
       "    .dataframe tbody tr th {\n",
       "        vertical-align: top;\n",
       "    }\n",
       "\n",
       "    .dataframe thead th {\n",
       "        text-align: right;\n",
       "    }\n",
       "</style>\n",
       "<table border=\"1\" class=\"dataframe\">\n",
       "  <thead>\n",
       "    <tr style=\"text-align: right;\">\n",
       "      <th></th>\n",
       "      <th>title</th>\n",
       "      <th>id</th>\n",
       "      <th>spam</th>\n",
       "      <th>name</th>\n",
       "    </tr>\n",
       "  </thead>\n",
       "  <tbody>\n",
       "    <tr>\n",
       "      <th>count</th>\n",
       "      <td>15451</td>\n",
       "      <td>5755</td>\n",
       "      <td>4822</td>\n",
       "      <td>3797</td>\n",
       "    </tr>\n",
       "    <tr>\n",
       "      <th>unique</th>\n",
       "      <td>5378</td>\n",
       "      <td>984</td>\n",
       "      <td>1199</td>\n",
       "      <td>1143</td>\n",
       "    </tr>\n",
       "    <tr>\n",
       "      <th>top</th>\n",
       "      <td>NUM:speed What is the speed of the Mississippi...</td>\n",
       "      <td>?</td>\n",
       "      <td>?</td>\n",
       "      <td>?</td>\n",
       "    </tr>\n",
       "    <tr>\n",
       "      <th>freq</th>\n",
       "      <td>15</td>\n",
       "      <td>654</td>\n",
       "      <td>525</td>\n",
       "      <td>367</td>\n",
       "    </tr>\n",
       "  </tbody>\n",
       "</table>\n",
       "</div>"
      ],
      "text/plain": [
       "                                                    title    id  spam  name\n",
       "count                                               15451  5755  4822  3797\n",
       "unique                                               5378   984  1199  1143\n",
       "top     NUM:speed What is the speed of the Mississippi...     ?     ?     ?\n",
       "freq                                                   15   654   525   367"
      ]
     },
     "execution_count": 30,
     "metadata": {},
     "output_type": "execute_result"
    }
   ],
   "source": [
    "df.describe()"
   ]
  },
  {
   "cell_type": "code",
   "execution_count": 31,
   "id": "d0179a23",
   "metadata": {},
   "outputs": [
    {
     "name": "stdout",
     "output_type": "stream",
     "text": [
      "<class 'pandas.core.frame.DataFrame'>\n",
      "RangeIndex: 15451 entries, 0 to 15450\n",
      "Data columns (total 4 columns):\n",
      " #   Column  Non-Null Count  Dtype \n",
      "---  ------  --------------  ----- \n",
      " 0   title   15451 non-null  object\n",
      " 1   id      5755 non-null   object\n",
      " 2   spam    4822 non-null   object\n",
      " 3   name    3797 non-null   object\n",
      "dtypes: object(4)\n",
      "memory usage: 483.0+ KB\n"
     ]
    }
   ],
   "source": [
    "df.info()"
   ]
  },
  {
   "cell_type": "code",
   "execution_count": 36,
   "id": "2eaf1c4e",
   "metadata": {},
   "outputs": [
    {
     "data": {
      "text/plain": [
       "?      654\n",
       "of      68\n",
       "th      58\n",
       "in      55\n",
       "es      45\n",
       "      ... \n",
       "f P      1\n",
       "rly      1\n",
       "Lo       1\n",
       "ox       1\n",
       "75       1\n",
       "Name: id, Length: 984, dtype: int64"
      ]
     },
     "execution_count": 36,
     "metadata": {},
     "output_type": "execute_result"
    }
   ],
   "source": [
    "df[\"id\"].value_counts()"
   ]
  },
  {
   "cell_type": "code",
   "execution_count": 33,
   "id": "7897ce4d",
   "metadata": {},
   "outputs": [
    {
     "data": {
      "text/plain": [
       "?                                                          367\n",
       "' ?                                                         29\n",
       "s ?                                                         24\n",
       "'' ?                                                        22\n",
       "on ?                                                        17\n",
       "                                                          ... \n",
       "atrons at the Stonewall , a Greenwich Village gay bar ?      1\n",
       "sted that Clarabell be made up as a real clown ?             1\n",
       "erican Woman ?                                               1\n",
       "sey ' ?                                                      1\n",
       "ifornia ?                                                    1\n",
       "Name: name, Length: 1143, dtype: int64"
      ]
     },
     "execution_count": 33,
     "metadata": {},
     "output_type": "execute_result"
    }
   ],
   "source": [
    "df['name'].value_counts()"
   ]
  },
  {
   "cell_type": "code",
   "execution_count": 34,
   "id": "e1f99703",
   "metadata": {},
   "outputs": [
    {
     "data": {
      "text/plain": [
       "n 1    13\n",
       "Eng    10\n",
       "e w     9\n",
       "Eas     8\n",
       "te      7\n",
       "       ..\n",
       "ipp     1\n",
       "cat     1\n",
       "rgr     1\n",
       "bl      1\n",
       "sid     1\n",
       "Name: id, Length: 117, dtype: int64"
      ]
     },
     "execution_count": 34,
     "metadata": {},
     "output_type": "execute_result"
    }
   ],
   "source": [
    "df.loc[df[\"name\"] == \"?\", \"id\"].value_counts()"
   ]
  },
  {
   "cell_type": "code",
   "execution_count": 38,
   "id": "6443de57",
   "metadata": {},
   "outputs": [
    {
     "data": {
      "text/plain": [
       "{'sequence_output': <KerasTensor: shape=(None, 128, 768) dtype=float32 (created by layer 'keras_layer_1')>,\n",
       " 'encoder_outputs': [<KerasTensor: shape=(None, 128, 768) dtype=float32 (created by layer 'keras_layer_1')>,\n",
       "  <KerasTensor: shape=(None, 128, 768) dtype=float32 (created by layer 'keras_layer_1')>,\n",
       "  <KerasTensor: shape=(None, 128, 768) dtype=float32 (created by layer 'keras_layer_1')>,\n",
       "  <KerasTensor: shape=(None, 128, 768) dtype=float32 (created by layer 'keras_layer_1')>,\n",
       "  <KerasTensor: shape=(None, 128, 768) dtype=float32 (created by layer 'keras_layer_1')>,\n",
       "  <KerasTensor: shape=(None, 128, 768) dtype=float32 (created by layer 'keras_layer_1')>,\n",
       "  <KerasTensor: shape=(None, 128, 768) dtype=float32 (created by layer 'keras_layer_1')>,\n",
       "  <KerasTensor: shape=(None, 128, 768) dtype=float32 (created by layer 'keras_layer_1')>,\n",
       "  <KerasTensor: shape=(None, 128, 768) dtype=float32 (created by layer 'keras_layer_1')>,\n",
       "  <KerasTensor: shape=(None, 128, 768) dtype=float32 (created by layer 'keras_layer_1')>,\n",
       "  <KerasTensor: shape=(None, 128, 768) dtype=float32 (created by layer 'keras_layer_1')>,\n",
       "  <KerasTensor: shape=(None, 128, 768) dtype=float32 (created by layer 'keras_layer_1')>],\n",
       " 'default': <KerasTensor: shape=(None, 768) dtype=float32 (created by layer 'keras_layer_1')>,\n",
       " 'pooled_output': <KerasTensor: shape=(None, 768) dtype=float32 (created by layer 'keras_layer_1')>}"
      ]
     },
     "execution_count": 38,
     "metadata": {},
     "output_type": "execute_result"
    }
   ],
   "source": [
    "text_input = tf.keras.layers.Input(shape=(), dtype=tf.string, name='text')\n",
    "preprocessed_text = bert_preprocess(text_input)\n",
    "bert_encoder(preprocessed_text)"
   ]
  },
  {
   "cell_type": "markdown",
   "id": "33b95f03",
   "metadata": {},
   "source": [
    "# predict the model"
   ]
  },
  {
   "cell_type": "code",
   "execution_count": 42,
   "id": "be4ffb7b",
   "metadata": {},
   "outputs": [],
   "source": [
    "text_input = tf.keras.layers.Input(shape=(), dtype=tf.string, name='text')\n",
    "text_output = tf.keras.layers.Input(shape=(), dtype=tf.string, name='output')\n",
    "preprocessed_text = bert_preprocess(text_input)\n",
    "bert_encoder(preprocessed_text)\n",
    "outputs = bert_encoder(preprocessed_text)\n",
    "\n",
    "\n",
    "1== tf.keras.layers.Dropout(0.1, name='dropout')(outputs['pooled_output'])\n",
    "1== tf.keras.layers.Dense(1, activation='sigmoid', input_shape='output')\n",
    "\n",
    "model = tf.keras.Model(inputs=[text_input], outputs=[text_output])\n"
   ]
  },
  {
   "cell_type": "code",
   "execution_count": 43,
   "id": "e7f33ee5",
   "metadata": {},
   "outputs": [
    {
     "name": "stdout",
     "output_type": "stream",
     "text": [
      "Model: \"model\"\n",
      "__________________________________________________________________________________________________\n",
      " Layer (type)                   Output Shape         Param #     Connected to                     \n",
      "==================================================================================================\n",
      " text (InputLayer)              [(None,)]            0           []                               \n",
      "                                                                                                  \n",
      " output (InputLayer)            [(None,)]            0           []                               \n",
      "                                                                                                  \n",
      "==================================================================================================\n",
      "Total params: 0\n",
      "Trainable params: 0\n",
      "Non-trainable params: 0\n",
      "__________________________________________________________________________________________________\n"
     ]
    }
   ],
   "source": [
    "model.summary()"
   ]
  },
  {
   "cell_type": "markdown",
   "id": "f185ec13",
   "metadata": {},
   "source": [
    "# i know the model is not predict , i try many times but the problem i think is in data set , i am fresher its very difficult for me , but i still managed to find something intent prediction and data class ."
   ]
  },
  {
   "cell_type": "code",
   "execution_count": null,
   "id": "7495c3fb",
   "metadata": {},
   "outputs": [],
   "source": []
  }
 ],
 "metadata": {
  "kernelspec": {
   "display_name": "Python 3 (ipykernel)",
   "language": "python",
   "name": "python3"
  },
  "language_info": {
   "codemirror_mode": {
    "name": "ipython",
    "version": 3
   },
   "file_extension": ".py",
   "mimetype": "text/x-python",
   "name": "python",
   "nbconvert_exporter": "python",
   "pygments_lexer": "ipython3",
   "version": "3.9.7"
  }
 },
 "nbformat": 4,
 "nbformat_minor": 5
}
